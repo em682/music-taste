{
 "cells": [
  {
   "cell_type": "markdown",
   "metadata": {},
   "source": [
    "# Getting the Top 50 Artists to Determine Genre \n",
    "\n",
    "The first step is to log-in to Spotify which requires a token for authorization.\n",
    "The scope 'user-top-read' is used to obtain the top user data."
   ]
  },
  {
   "cell_type": "code",
   "execution_count": 5,
   "metadata": {
    "scrolled": false
   },
   "outputs": [],
   "source": [
    "# List of user's top 50 tracks\n",
    "import sys\n",
    "import spotipy\n",
    "import spotipy.util as util\n",
    "\n",
    "if len(sys.argv) > 1:\n",
    "    username = sys.argv[1]\n",
    "else:\n",
    "    print(\"Usage: %s username\" % (sys.argv[0],))\n",
    "    sys.exit()\n",
    "\n",
    "scope = 'user-top-read'\n",
    "token = util.prompt_for_user_token(username, scope, client_id='c3bf1281ee3348aca441cc5e6c369f49',client_secret='2de133361d8246f29f458d12d8b5127c',redirect_uri='http://example.com/callback/')"
   ]
  },
  {
   "cell_type": "markdown",
   "metadata": {},
   "source": [
    "## Obtaining Data\n",
    "Lists for genre and artist name for each time span will be used.\n",
    "Spotipy is used to obtain the list of the current top artists for the signed in user. The list is limited to 50 as that is the only data available from Spotify. Each artist will have a set of one or more genres associated with their music. Those genres will be used to determine user taste."
   ]
  },
  {
   "cell_type": "code",
   "execution_count": 6,
   "metadata": {},
   "outputs": [],
   "source": [
    "# empty track lists\n",
    "short_artist_genre = []\n",
    "short_artist_name = []\n",
    "\n",
    "medium_artist_genre = []\n",
    "medium_artist_name = []\n",
    "\n",
    "long_artist_genre = []\n",
    "long_artist_name = []\n",
    "\n",
    "if token:\n",
    "    sp = spotipy.Spotify(auth=token)\n",
    "    sp.trace = False\n",
    "    ranges = ['short_term', 'medium_term', 'long_term']\n",
    "    for range in ranges:\n",
    "        results = sp.current_user_top_artists(time_range=range, limit=50)\n",
    "        for i, item in enumerate(results['items']):\n",
    "            if (range=='short_term'):\n",
    "                short_artist_genre.append(item['genres'])\n",
    "                short_artist_name.append(item['name'])\n",
    "            elif(range=='medium_term'):\n",
    "                medium_artist_genre.append(item['genres'])\n",
    "                medium_artist_name.append(item['name'])\n",
    "            else:\n",
    "                long_artist_genre.append(item['genres'])\n",
    "                long_artist_name.append(item['name'])\n",
    "\n",
    "else:\n",
    "    print(\"Can't get token for\", username)"
   ]
  },
  {
   "cell_type": "markdown",
   "metadata": {},
   "source": [
    "We now have to turn the list into a one dimensional list so that we can have a dataset of all the genres."
   ]
  },
  {
   "cell_type": "code",
   "execution_count": 7,
   "metadata": {},
   "outputs": [
    {
     "name": "stdout",
     "output_type": "stream",
     "text": [
      "['canadian hip hop', 'canadian pop', 'hip hop', 'pop rap', 'rap', 'toronto rap', 'boy band', 'hip hop', 'pop rap', 'rap', 'art pop', 'pop', 'pop', 'pop rap', 'chicago rap', 'pop rap', 'rap', 'east coast hip hop', 'gangster rap', 'hip hop', 'pop rap', 'rap', 'southern hip hop', 'canadian contemporary r&b', 'canadian pop', 'pop', 'k-pop', 'k-pop girl group', 'escape room', 'conscious hip hop', 'hip hop', 'pop rap', 'rap', 'west coast rap', 'escape room', 'hip hop', 'pop rap', 'rap', 'trap', 'underground hip hop', 'alternative metal', 'alternative rock', 'el paso indie', 'garage rock', 'modern rock', 'rock', 'canadian contemporary r&b', 'pop', 'alternative r&b', 'art pop', 'escape room', 'indie r&b', 'indie soul', 'la pop', 'electropop', 'pop', 'hip hop', 'pop rap', 'rap', 'underground hip hop', 'art pop', 'dance pop', 'electropop', 'metropopolis', 'nz pop', 'pop', 'cali rap', 'melodic rap', 'pop rap', 'trap', 'underground hip hop', 'vapor trap', 'pop', 'uk pop', 'k-pop', 'k-pop girl group', 'hip hop', 'pop rap', 'rap', 'southern hip hop', 'trap', 'vapor trap', 'east coast hip hop', 'hip hop', 'pop rap', 'rap', 'trap', 'dfw rap', 'melodic rap', 'rap', 'hip hop', 'pop rap', 'rap', 'indonesian hip hop', 'pop rap', 'dark trap', 'drill', 'hip hop', 'miami hip hop', 'pop rap', 'rap', 'trap', 'underground hip hop', 'anime', 'anime rock', 'j-pixie', 'otacore', 'otacore', 'atl hip hop', 'atl trap', 'gangster rap', 'melodic rap', 'pop rap', 'rap', 'trap', 'hip hop', 'pop rap', 'rap', 'la indie', 'pop', 'pop rap', 'alternative r&b', 'cali rap', 'deep underground hip hop', 'pop rap', 'trap soul', 'underground hip hop', 'alternative hip hop', 'escape room', 'hip hop', 'pop rap', 'rap', 'southern hip hop', 'underground hip hop', 'dmv rap', 'hip hop', 'pop rap', 'rap', 'trap', 'underground hip hop', 'vapor trap', 'hip hop', 'pop rap', 'rap', 'dark trap', 'new orleans rap', 'underground hip hop', 'hip hop', 'pop rap', 'rap', 'southern hip hop', 'trap', 'underground hip hop', 'alternative hip hop', 'conscious hip hop', 'east coast hip hop', 'gangster rap', 'hardcore hip hop', 'hip hop', 'rap', 'hip hop', 'pop rap', 'rap', 'underground hip hop', 'dmv rap', 'hip hop', 'pop rap', 'rap', 'underground hip hop', 'conscious hip hop', 'hip hop', 'nc hip hop', 'pop rap', 'rap', 'atl hip hop', 'hip hop', 'pop rap', 'rap', 'alternative r&b', 'underground hip hop', 'alternative r&b', 'indie r&b', 'deep underground hip hop', 'underground hip hop', 'k-pop', 'k-pop boy group', 'alternative hip hop', 'boom bap', 'hip hop', 'rap', 'southern hip hop', 'underground hip hop', 'k-pop', 'k-pop girl group', 'alternative hip hop', 'escape room', 'hip hop']\n"
     ]
    }
   ],
   "source": [
    "genre_list_short = []\n",
    "genre_list_long = []\n",
    "for genres in short_artist_genre:\n",
    "    for genre in genres:\n",
    "        genre_list_short.append(genre)\n",
    "for genres in long_artist_genre:\n",
    "    for genre in genres:\n",
    "        genre_list_long.append(genre)\n",
    "print (genre_list_short)"
   ]
  },
  {
   "cell_type": "markdown",
   "metadata": {},
   "source": [
    "We can then convert the list to a set to obtain distinct strings and then convert it back to a list."
   ]
  },
  {
   "cell_type": "code",
   "execution_count": 8,
   "metadata": {},
   "outputs": [],
   "source": [
    "list_short = list(set(genre_list_short)) \n",
    "list_long = list(set(genre_list_long))"
   ]
  },
  {
   "cell_type": "markdown",
   "metadata": {},
   "source": [
    "## Find Out How Often Each Genre Occured\n",
    "Now we can go through each value in the distinct genres list and then counting the number of occurences in the list with all\n",
    "the genres using loops. We will obtain lists of each genres respective counts."
   ]
  },
  {
   "cell_type": "code",
   "execution_count": 14,
   "metadata": {},
   "outputs": [],
   "source": [
    "counts_short = []\n",
    "counts_long = []\n",
    "percentage_short = []\n",
    "percentage_long = []\n",
    "\n",
    "for gen in list_short:\n",
    "    count = genre_list_short.count(gen)\n",
    "    counts_short.append(count)\n",
    "for gen in list_long:\n",
    "    count = genre_list_long.count(gen)\n",
    "    counts_long.append(count)\n",
    "      \n",
    "for count in counts_short:\n",
    "    percentage_short.append(count/len(short_artist_genre))\n",
    "for count in counts_long:\n",
    "    percentage_long.append(count/len(long_artist_genre))"
   ]
  },
  {
   "cell_type": "markdown",
   "metadata": {},
   "source": [
    "## Pandas dataframe\n",
    "The lists obtained are then used to create a dataframe just consisting of each distinct genre and their respective occurences."
   ]
  },
  {
   "cell_type": "code",
   "execution_count": 15,
   "metadata": {},
   "outputs": [
    {
     "data": {
      "text/html": [
       "<div>\n",
       "<style scoped>\n",
       "    .dataframe tbody tr th:only-of-type {\n",
       "        vertical-align: middle;\n",
       "    }\n",
       "\n",
       "    .dataframe tbody tr th {\n",
       "        vertical-align: top;\n",
       "    }\n",
       "\n",
       "    .dataframe thead th {\n",
       "        text-align: right;\n",
       "    }\n",
       "</style>\n",
       "<table border=\"1\" class=\"dataframe\">\n",
       "  <thead>\n",
       "    <tr style=\"text-align: right;\">\n",
       "      <th></th>\n",
       "      <th>genre</th>\n",
       "      <th>count</th>\n",
       "      <th>percentage</th>\n",
       "    </tr>\n",
       "  </thead>\n",
       "  <tbody>\n",
       "    <tr>\n",
       "      <th>0</th>\n",
       "      <td>nz pop</td>\n",
       "      <td>1</td>\n",
       "      <td>0.02</td>\n",
       "    </tr>\n",
       "    <tr>\n",
       "      <th>1</th>\n",
       "      <td>rap</td>\n",
       "      <td>24</td>\n",
       "      <td>0.48</td>\n",
       "    </tr>\n",
       "    <tr>\n",
       "      <th>2</th>\n",
       "      <td>k-pop boy group</td>\n",
       "      <td>1</td>\n",
       "      <td>0.02</td>\n",
       "    </tr>\n",
       "    <tr>\n",
       "      <th>3</th>\n",
       "      <td>boom bap</td>\n",
       "      <td>1</td>\n",
       "      <td>0.02</td>\n",
       "    </tr>\n",
       "    <tr>\n",
       "      <th>4</th>\n",
       "      <td>boy band</td>\n",
       "      <td>1</td>\n",
       "      <td>0.02</td>\n",
       "    </tr>\n",
       "  </tbody>\n",
       "</table>\n",
       "</div>"
      ],
      "text/plain": [
       "             genre  count  percentage\n",
       "0           nz pop      1        0.02\n",
       "1              rap     24        0.48\n",
       "2  k-pop boy group      1        0.02\n",
       "3         boom bap      1        0.02\n",
       "4         boy band      1        0.02"
      ]
     },
     "execution_count": 15,
     "metadata": {},
     "output_type": "execute_result"
    }
   ],
   "source": [
    "import pandas as pd\n",
    "df_genres_short = pd.DataFrame({'genre':list_short,'count':counts_short,'percentage':percentage_short})\n",
    "df_genres_long = pd.DataFrame({'genre':list_long,'count':counts_long,'percentage':percentage_long})\n",
    "\n",
    "df_genres_short.head()"
   ]
  },
  {
   "cell_type": "markdown",
   "metadata": {},
   "source": [
    "The data seems to be fine and we can convert it into a csv file."
   ]
  },
  {
   "cell_type": "code",
   "execution_count": null,
   "metadata": {},
   "outputs": [],
   "source": [
    "df_gen_short.to_csv('SpotifyGenres12022019ShortTerm.csv')\n",
    "df_gen_long.to_csv('SpotifyGenres12022019LongTerm.csv')"
   ]
  }
 ],
 "metadata": {
  "kernelspec": {
   "display_name": "Python 3",
   "language": "python",
   "name": "python3"
  },
  "language_info": {
   "codemirror_mode": {
    "name": "ipython",
    "version": 3
   },
   "file_extension": ".py",
   "mimetype": "text/x-python",
   "name": "python",
   "nbconvert_exporter": "python",
   "pygments_lexer": "ipython3",
   "version": "3.6.5"
  }
 },
 "nbformat": 4,
 "nbformat_minor": 2
}
