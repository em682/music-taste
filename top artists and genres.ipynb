{
 "cells": [
  {
   "cell_type": "code",
   "execution_count": 115,
   "metadata": {
    "scrolled": false
   },
   "outputs": [
    {
     "name": "stdout",
     "output_type": "stream",
     "text": [
      "['BROCKHAMPTON', 'Drake', 'Kendrick Lamar', 'Lana Del Rey', '88rising', 'Kanye West', 'J. Cole', 'The Weeknd', 'Red Velvet', 'Daniel Caesar', 'Flatbush Zombies', 'Post Malone', 'The Mars Volta', 'Moses Sumney', 'Beast Coast', 'Billie Eilish', 'Lorde', '03 Greedo', 'Russ', 'Ed Sheeran', 'A$AP Mob', 'YBN Cordae', 'A$AP Rocky', 'Dreamville', 'Tyler, The Creator', 'Doja Cat', 'Rexx Life Raj', 'Rich Brian', 'LiSA', 'Shayne Orok', 'Jay Rock', 'Yuna', 'Denzel Curry', '$uicideBoy$', 'IDK', 'GoldLink', 'Gang Starr', 'Big K.R.I.T.', 'Freddie Gibbs', 'Mustard', 'Pivot Gang', 'Jaden', 'Emotional Oranges', 'XXXTENTACION', 'Mark Battles', 'Ajani Jones', 'BTS', 'Smoke Dza', 'Grip', 'Run The Jewels']\n",
      "['BROCKHAMPTON', 'Flume', 'Kanye West', 'Kendrick Lamar', 'JPEGMAFIA', 'Drake', 'Tyler, The Creator', 'Post Malone', 'ScHoolboy Q', 'Mac Miller', '88rising', 'Red Velvet', 'EARTHGANG', 'Rich Brian', 'A$AP Rocky', 'JID', 'BTS', 'Jay Park', 'Higher Brothers', 'Denzel Curry', 'Aminé', 'Ed Sheeran', 'Nujabes', 'Jay Rock', 'Logic', 'Vince Staples', 'Jaden', 'Smino', 'Anderson .Paak', 'Daniel Caesar', 'Big Sean', 'LOOΠΔ', 'James Blake', 'Sik-K', 'DPR LIVE', 'Injury Reserve', 'Travis Scott', 'J. Cole', 'Meek Mill', 'XXXTENTACION', 'Duckwrth', 'Frank Ocean', 'Dreamville', 'Childish Gambino', 'Paramore', 'Kevin Abstract', 'Ski Mask The Slump God', 'YBN Cordae', 'Omar Apollo', 'Isaiah Rashad']\n"
     ]
    }
   ],
   "source": [
    "# List of user's top 50 tracks\n",
    "import sys\n",
    "import spotipy\n",
    "import spotipy.util as util\n",
    "\n",
    "if len(sys.argv) > 1:\n",
    "    username = sys.argv[1]\n",
    "else:\n",
    "    print(\"Usage: %s username\" % (sys.argv[0],))\n",
    "    sys.exit()\n",
    "\n",
    "scope = 'user-top-read'\n",
    "token = util.prompt_for_user_token(username, scope, client_id='c3bf1281ee3348aca441cc5e6c369f49',client_secret='2de133361d8246f29f458d12d8b5127c',redirect_uri='http://example.com/callback/')\n",
    "\n",
    "# empty track lists\n",
    "short_artist_genre = []\n",
    "short_artist_name = []\n",
    "\n",
    "medium_artist_genre = []\n",
    "medium_artist_name = []\n",
    "\n",
    "long_artist_genre = []\n",
    "long_artist_name = []\n",
    "\n",
    "if token:\n",
    "    sp = spotipy.Spotify(auth=token)\n",
    "    sp.trace = False\n",
    "    ranges = ['short_term', 'medium_term', 'long_term']\n",
    "    for range in ranges:\n",
    "        results = sp.current_user_top_artists(time_range=range, limit=50)\n",
    "        for i, item in enumerate(results['items']):\n",
    "            if (range=='short_term'):\n",
    "                short_artist_genre.append(item['genres'])\n",
    "                short_artist_name.append(item['name'])\n",
    "            elif(range=='medium_term'):\n",
    "                medium_artist_genre.append(item['genres'])\n",
    "                medium_artist_name.append(item['name'])\n",
    "            else:\n",
    "                long_artist_genre.append(item['genres'])\n",
    "                long_artist_name.append(item['name'])\n",
    "\n",
    "else:\n",
    "    print(\"Can't get token for\", username)"
   ]
  },
  {
   "cell_type": "code",
   "execution_count": 106,
   "metadata": {},
   "outputs": [],
   "source": [
    "import pandas as pd\n",
    "\n",
    "df_genres_short = pd.DataFrame({'artist_genres':short_artist_genre})\n",
    "df_genres_medium = pd.DataFrame({'artist_genres':medium_artist_genre})\n",
    "df_genres_long = pd.DataFrame({'artist_genres':long_artist_genre})\n"
   ]
  },
  {
   "cell_type": "code",
   "execution_count": 107,
   "metadata": {},
   "outputs": [],
   "source": [
    "list_of_genres_short = df_genres_short.values.tolist()\n",
    "list_of_genres_long = df_genres_long.values.tolist()\n",
    "\n",
    "genre_list_short = []\n",
    "genre_list_long = []\n",
    "for genress in list_of_genres_short:\n",
    "    for genres in genress:\n",
    "        for genre in genres:\n",
    "            genre_list_short.append(genre)\n",
    "for genress in list_of_genres_long:\n",
    "    for genres in genress:\n",
    "        for genre in genres:\n",
    "            genre_list_long.append(genre)"
   ]
  },
  {
   "cell_type": "code",
   "execution_count": 108,
   "metadata": {},
   "outputs": [],
   "source": [
    "list_short = list(set(genre_list_short)) \n",
    "list_long = list(set(genre_list_long))"
   ]
  },
  {
   "cell_type": "code",
   "execution_count": 112,
   "metadata": {},
   "outputs": [],
   "source": [
    "counts_short = []\n",
    "counts_long = []\n",
    "percentage_short = []\n",
    "percentage_long = []\n",
    "\n",
    "for gen in list_short:\n",
    "    count = genre_list_short.count(gen)\n",
    "    counts_short.append(count)\n",
    "for gen in list_long:\n",
    "    count = genre_list_long.count(gen)\n",
    "    counts_long.append(count)\n",
    "      \n",
    "for count in counts_short:\n",
    "    percentage_short.append(count/len(list_of_genres_short))\n",
    "for count in counts_long:\n",
    "    percentage_long.append(count/len(list_of_genres_long))\n",
    "    \n",
    "df_gen_short = pd.DataFrame({'genre':list_short,'count':counts_short,'percentage':percentage_short})\n",
    "df_gen_long = pd.DataFrame({'genre':list_long,'count':counts_long,'percentage':percentage_long})"
   ]
  },
  {
   "cell_type": "code",
   "execution_count": 113,
   "metadata": {},
   "outputs": [],
   "source": [
    "df_gen_short.to_csv('SpotifyGenres12022019ShortTerm.csv')\n",
    "df_gen_long.to_csv('SpotifyGenres12022019LongTerm.csv')"
   ]
  },
  {
   "cell_type": "code",
   "execution_count": null,
   "metadata": {},
   "outputs": [],
   "source": []
  },
  {
   "cell_type": "code",
   "execution_count": null,
   "metadata": {},
   "outputs": [],
   "source": []
  }
 ],
 "metadata": {
  "kernelspec": {
   "display_name": "Python 3",
   "language": "python",
   "name": "python3"
  },
  "language_info": {
   "codemirror_mode": {
    "name": "ipython",
    "version": 3
   },
   "file_extension": ".py",
   "mimetype": "text/x-python",
   "name": "python",
   "nbconvert_exporter": "python",
   "pygments_lexer": "ipython3",
   "version": "3.6.5"
  }
 },
 "nbformat": 4,
 "nbformat_minor": 2
}
